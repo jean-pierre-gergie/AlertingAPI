{
  "cells": [
    {
      "cell_type": "markdown",
      "metadata": {
        "id": "view-in-github",
        "colab_type": "text"
      },
      "source": [
        "<a href=\"https://colab.research.google.com/github/jean-pierre-gergie/AlertingAPI/blob/main/Week4/Notebook4.1.ipynb\" target=\"_parent\"><img src=\"https://colab.research.google.com/assets/colab-badge.svg\" alt=\"Open In Colab\"/></a>"
      ]
    },
    {
      "cell_type": "markdown",
      "id": "5903d1dd",
      "metadata": {
        "id": "5903d1dd"
      },
      "source": [
        "## Problem Statement"
      ]
    },
    {
      "cell_type": "markdown",
      "id": "cf87f1ae",
      "metadata": {
        "id": "cf87f1ae"
      },
      "source": [
        "In the era of growing medical data and the ascent of Data Science, numerous potential solutions are embracing the challenge of developing predictive indicators for potential diseases. Among these are the cardiovascular diseases (CVDs), which stand out as the leading global cause of mortality, claiming around 17.9 million lives annually and constituting 31% of total global deaths. Within the context of CVDs, heart failure emerges as the most occurrent. Individuals with cardiovascular disease, or those at a heightened cardiovascular risk due to factors like hypertension, diabetes, hyperlipidemia, or pre-existing conditions, necessitate early identification and intervention. This is where the application of machine learning models can play a very life-saving and imensly important role. By doing so, we aim to build this notebook to automate the resolution of yet another natural problem, leveraging AI techniques to transition our focus towards tackling the subsequent challenges.\n",
        "\n",
        "#### * We continue to build and explaing parts of this notebook as we progress with our Programming for Applied AI course. In the Objectives section, we state the goal of the current version of the notebook.\n",
        "\n",
        "#### * The objective of providing you with these notebooks is for you to get hands on experience with the different concepts covered thoughout the course lessons.\n",
        "\n",
        "#### * For practicing, we advise you to run all the cells. You can do this by selection \"Run All\" from the \"Cell\" tab in the navigation bar on top. For running individual cells, you have to select the cell you want, the click \"Run\" in the navigation bar. Please refer to the video in Week 3 / Practical Exercises for more information on how you can use this notebook."
      ]
    },
    {
      "cell_type": "markdown",
      "id": "86b59399",
      "metadata": {
        "id": "86b59399"
      },
      "source": [
        "## Objectives"
      ]
    },
    {
      "cell_type": "markdown",
      "id": "a1601d98",
      "metadata": {
        "id": "a1601d98"
      },
      "source": [
        "- Understand the heart failure prediction dataset and its content.\n",
        "- Apply Lists and use the Iterators and Loops covered in week 3."
      ]
    },
    {
      "cell_type": "markdown",
      "id": "0aa14c89",
      "metadata": {
        "id": "0aa14c89"
      },
      "source": [
        "## Dataset Description"
      ]
    },
    {
      "cell_type": "markdown",
      "id": "3f3f3f84",
      "metadata": {
        "id": "3f3f3f84"
      },
      "source": [
        "A dataset contains a set of columns, which we refer to as attributes. An instance of these combined attributes forms a row. Each of these attributes gives us additional information about the patient state, which can help in identifying if the patient possiblly has a heart diseas. A collection of rows forms that dataset. This data is the core of our machine learning model that we are going to build throughout the lessons. A \"prediction\", which can also be called a \"label\", is the classification of every row refering to a possibility of a heart disease with a yes/no or 0/1."
      ]
    },
    {
      "cell_type": "markdown",
      "id": "79415942",
      "metadata": {
        "id": "79415942"
      },
      "source": [
        "## Dataset Attributes Description"
      ]
    },
    {
      "cell_type": "markdown",
      "id": "76f5ac69",
      "metadata": {
        "id": "76f5ac69"
      },
      "source": [
        "In the attached documents, you can find 'heart.csv', which cantains the heatt disease dataset.\n",
        "\n",
        "Below are the list of columns/attributes in the dataset. We explain the meaning of each of the attributes.\n",
        "\n",
        "- Age : age of the patient [years]\n",
        "- Sex : sex of the patient [M: Male, F: Female]\n",
        "- ChestPainType : chest pain type [TA: Typical Angina, ATA: Atypical Angina, NAP: Non-Anginal Pain, ASY: Asymptomatic]\n",
        "- RestingBP : resting blood pressure [mm Hg]\n",
        "- Cholesterol : serum cholesterol [mm/dl]\n",
        "- FastingBS : fasting blood sugar [1: if FastingBS > 120 mg/dl, 0: otherwise]\n",
        "- RestingECG : resting electrocardiogram results [Normal: Normal, ST: having ST-T wave abnormality (T wave inversions and/or ST elevation or depression of > 0.05 mV), LVH: showing probable or definite left ventricular hypertrophy by Estes' criteria]\n",
        "- MaxHR : maximum heart rate achieved [Numeric value between 60 and 202]\n",
        "- ExerciseAngina : exercise-induced angina [Y: Yes, N: No]\n",
        "- Oldpeak : oldpeak = ST [Numeric value measured in depression]\n",
        "- ST_Slope : the slope of the peak exercise ST segment [Up: upsloping, Flat: flat, Down: downsloping]\n",
        "- HeartDisease : output class [1: heart disease, 0: Normal]"
      ]
    },
    {
      "cell_type": "markdown",
      "id": "c2dbf349",
      "metadata": {
        "id": "c2dbf349"
      },
      "source": [
        "# <center><div style=\"font-family: Trebuchet MS; background-color: #000000; color: #FFFF; padding: 10px; line-height: 1;\">Do not worry about the following code cells, we are going to cover it later. For now, after you run all the cells, scroll down to \"Dictionaries Practice\" and attempt to solve the exercises described in the lessons.</div></center>"
      ]
    },
    {
      "cell_type": "markdown",
      "id": "bacdcee0",
      "metadata": {
        "id": "bacdcee0"
      },
      "source": [
        "#### Import libraries/modules"
      ]
    },
    {
      "cell_type": "code",
      "execution_count": 1,
      "id": "b09dcc08",
      "metadata": {
        "id": "b09dcc08",
        "outputId": "e7257d65-4a2b-4a2a-c666-68f364f6a382",
        "colab": {
          "base_uri": "https://localhost:8080/"
        }
      },
      "outputs": [
        {
          "output_type": "stream",
          "name": "stdout",
          "text": [
            "Requirement already satisfied: pandas in /usr/local/lib/python3.10/dist-packages (2.2.2)\n",
            "Requirement already satisfied: numpy in /usr/local/lib/python3.10/dist-packages (1.26.4)\n",
            "Requirement already satisfied: matplotlib in /usr/local/lib/python3.10/dist-packages (3.8.0)\n",
            "Requirement already satisfied: seaborn in /usr/local/lib/python3.10/dist-packages (0.13.2)\n",
            "Requirement already satisfied: python-dateutil>=2.8.2 in /usr/local/lib/python3.10/dist-packages (from pandas) (2.8.2)\n",
            "Requirement already satisfied: pytz>=2020.1 in /usr/local/lib/python3.10/dist-packages (from pandas) (2024.2)\n",
            "Requirement already satisfied: tzdata>=2022.7 in /usr/local/lib/python3.10/dist-packages (from pandas) (2024.2)\n",
            "Requirement already satisfied: contourpy>=1.0.1 in /usr/local/lib/python3.10/dist-packages (from matplotlib) (1.3.1)\n",
            "Requirement already satisfied: cycler>=0.10 in /usr/local/lib/python3.10/dist-packages (from matplotlib) (0.12.1)\n",
            "Requirement already satisfied: fonttools>=4.22.0 in /usr/local/lib/python3.10/dist-packages (from matplotlib) (4.55.0)\n",
            "Requirement already satisfied: kiwisolver>=1.0.1 in /usr/local/lib/python3.10/dist-packages (from matplotlib) (1.4.7)\n",
            "Requirement already satisfied: packaging>=20.0 in /usr/local/lib/python3.10/dist-packages (from matplotlib) (24.2)\n",
            "Requirement already satisfied: pillow>=6.2.0 in /usr/local/lib/python3.10/dist-packages (from matplotlib) (11.0.0)\n",
            "Requirement already satisfied: pyparsing>=2.3.1 in /usr/local/lib/python3.10/dist-packages (from matplotlib) (3.2.0)\n",
            "Requirement already satisfied: six>=1.5 in /usr/local/lib/python3.10/dist-packages (from python-dateutil>=2.8.2->pandas) (1.16.0)\n"
          ]
        }
      ],
      "source": [
        "# Install Packages\n",
        "!pip install pandas numpy matplotlib seaborn"
      ]
    },
    {
      "cell_type": "code",
      "execution_count": 2,
      "id": "862046b8",
      "metadata": {
        "id": "862046b8"
      },
      "outputs": [],
      "source": [
        "import pandas as pd\n",
        "import numpy as np\n",
        "import matplotlib.pyplot as plt\n",
        "%matplotlib inline\n",
        "import seaborn as sns\n",
        "pd.options.display.float_format = '{:.2f}'.format\n",
        "import warnings\n",
        "warnings.filterwarnings('ignore')"
      ]
    },
    {
      "cell_type": "markdown",
      "id": "c4ec22c7",
      "metadata": {
        "id": "c4ec22c7"
      },
      "source": [
        "### Reading Data"
      ]
    },
    {
      "cell_type": "code",
      "execution_count": 3,
      "id": "f5a8d1ea",
      "metadata": {
        "id": "f5a8d1ea"
      },
      "outputs": [],
      "source": [
        "import csv\n",
        "\n",
        "data = []\n",
        "\n",
        "with open('./heart.csv', mode='r') as csv_file:\n",
        "    # Create a CSV reader object\n",
        "    csv_reader = csv.DictReader(csv_file)\n",
        "\n",
        "    # Loop through each row in the CSV file\n",
        "    for row in csv_reader:\n",
        "        # Append each row (as a dictionary) to the data list\n",
        "        data.append(row)"
      ]
    },
    {
      "cell_type": "markdown",
      "id": "9af3c025",
      "metadata": {
        "id": "9af3c025"
      },
      "source": [
        "### Here is a sample of the first row in the dataset. You can see the keys as the attributes, which are associated with values"
      ]
    },
    {
      "cell_type": "code",
      "execution_count": 4,
      "id": "4eeaf0c1",
      "metadata": {
        "id": "4eeaf0c1",
        "outputId": "12c9fa05-573c-4325-f999-634d0c88eeae",
        "colab": {
          "base_uri": "https://localhost:8080/"
        }
      },
      "outputs": [
        {
          "output_type": "execute_result",
          "data": {
            "text/plain": [
              "{'Age': '40',\n",
              " 'Sex': 'M',\n",
              " 'ChestPainType': 'ATA',\n",
              " 'RestingBP': '140',\n",
              " 'Cholesterol': '289',\n",
              " 'FastingBS': '0',\n",
              " 'RestingECG': 'Normal',\n",
              " 'MaxHR': '172',\n",
              " 'ExerciseAngina': 'N',\n",
              " 'Oldpeak': '0',\n",
              " 'ST_Slope': 'Up',\n",
              " 'HeartDisease': '0'}"
            ]
          },
          "metadata": {},
          "execution_count": 4
        }
      ],
      "source": [
        "data[0]"
      ]
    },
    {
      "cell_type": "markdown",
      "id": "b1053424",
      "metadata": {
        "id": "b1053424"
      },
      "source": [
        "# <center><div style=\"font-family: Trebuchet MS; background-color: #F93822; color: #FDD20E; padding: 12px; line-height: 1;\">Lesson 2 - Dictionaries Practice</div></center>"
      ]
    },
    {
      "cell_type": "markdown",
      "id": "919c2ebc",
      "metadata": {
        "id": "919c2ebc"
      },
      "source": [
        "# <center><div style=\"font-family: Trebuchet MS; background-color: #F93822; color: #FDD20E; padding: 12px; line-height: 1;\">Lesson 3 - Functions Practice</div></center>"
      ]
    },
    {
      "cell_type": "code",
      "execution_count": 6,
      "id": "88f29cfe",
      "metadata": {
        "id": "88f29cfe",
        "outputId": "97d85997-fb12-4ab3-c416-d6bef0e55ce6",
        "colab": {
          "base_uri": "https://localhost:8080/"
        }
      },
      "outputs": [
        {
          "output_type": "execute_result",
          "data": {
            "text/plain": [
              "{'ATA': 173, 'NAP': 203, 'ASY': 496, 'TA': 46}"
            ]
          },
          "metadata": {},
          "execution_count": 6
        }
      ],
      "source": [
        "count_distinct_chest_pain_type = {}\n",
        "\n",
        "\n",
        "for r in data :\n",
        "  ct = r['ChestPainType']\n",
        "  if ct in count_distinct_chest_pain_type:\n",
        "      count_distinct_chest_pain_type[ct] = count_distinct_chest_pain_type.get(ct)+1\n",
        "  else:\n",
        "    count_distinct_chest_pain_type[ct]=1\n",
        "count_distinct_chest_pain_type"
      ]
    },
    {
      "cell_type": "markdown",
      "id": "718fe86f",
      "metadata": {
        "id": "718fe86f"
      },
      "source": [
        "# <center><div style=\"font-family: Trebuchet MS; background-color: #F93822; color: #FDD20E; padding: 12px; line-height: 1;\">Lesson 4 - File Reading</div></center>"
      ]
    },
    {
      "cell_type": "code",
      "source": [
        "high_ch = {}\n",
        "\n",
        "\n",
        "for r in data:\n",
        "  cl = int ( r['Cholesterol'])\n",
        "  if cl >360 :\n",
        "    high_ch[r['Age']] = r\n",
        "high_ch"
      ],
      "metadata": {
        "id": "PK-94potu0Iq",
        "outputId": "be5ed40d-6f7f-4982-ebab-416aa25d41cd",
        "colab": {
          "base_uri": "https://localhost:8080/"
        }
      },
      "id": "PK-94potu0Iq",
      "execution_count": 7,
      "outputs": [
        {
          "output_type": "execute_result",
          "data": {
            "text/plain": [
              "{'53': {'Age': '53',\n",
              "  'Sex': 'M',\n",
              "  'ChestPainType': 'NAP',\n",
              "  'RestingBP': '145',\n",
              "  'Cholesterol': '518',\n",
              "  'FastingBS': '0',\n",
              "  'RestingECG': 'Normal',\n",
              "  'MaxHR': '130',\n",
              "  'ExerciseAngina': 'N',\n",
              "  'Oldpeak': '0',\n",
              "  'ST_Slope': 'Flat',\n",
              "  'HeartDisease': '1'},\n",
              " '54': {'Age': '54',\n",
              "  'Sex': 'M',\n",
              "  'ChestPainType': 'ASY',\n",
              "  'RestingBP': '130',\n",
              "  'Cholesterol': '603',\n",
              "  'FastingBS': '1',\n",
              "  'RestingECG': 'Normal',\n",
              "  'MaxHR': '125',\n",
              "  'ExerciseAngina': 'Y',\n",
              "  'Oldpeak': '1',\n",
              "  'ST_Slope': 'Flat',\n",
              "  'HeartDisease': '1'},\n",
              " '44': {'Age': '44',\n",
              "  'Sex': 'M',\n",
              "  'ChestPainType': 'ASY',\n",
              "  'RestingBP': '135',\n",
              "  'Cholesterol': '491',\n",
              "  'FastingBS': '0',\n",
              "  'RestingECG': 'Normal',\n",
              "  'MaxHR': '135',\n",
              "  'ExerciseAngina': 'N',\n",
              "  'Oldpeak': '0',\n",
              "  'ST_Slope': 'Flat',\n",
              "  'HeartDisease': '1'},\n",
              " '32': {'Age': '32',\n",
              "  'Sex': 'M',\n",
              "  'ChestPainType': 'ASY',\n",
              "  'RestingBP': '118',\n",
              "  'Cholesterol': '529',\n",
              "  'FastingBS': '0',\n",
              "  'RestingECG': 'Normal',\n",
              "  'MaxHR': '130',\n",
              "  'ExerciseAngina': 'N',\n",
              "  'Oldpeak': '0',\n",
              "  'ST_Slope': 'Flat',\n",
              "  'HeartDisease': '1'},\n",
              " '40': {'Age': '40',\n",
              "  'Sex': 'M',\n",
              "  'ChestPainType': 'ASY',\n",
              "  'RestingBP': '120',\n",
              "  'Cholesterol': '466',\n",
              "  'FastingBS': '1',\n",
              "  'RestingECG': 'Normal',\n",
              "  'MaxHR': '152',\n",
              "  'ExerciseAngina': 'Y',\n",
              "  'Oldpeak': '1',\n",
              "  'ST_Slope': 'Flat',\n",
              "  'HeartDisease': '1'},\n",
              " '58': {'Age': '58',\n",
              "  'Sex': 'M',\n",
              "  'ChestPainType': 'ASY',\n",
              "  'RestingBP': '140',\n",
              "  'Cholesterol': '385',\n",
              "  'FastingBS': '1',\n",
              "  'RestingECG': 'LVH',\n",
              "  'MaxHR': '135',\n",
              "  'ExerciseAngina': 'N',\n",
              "  'Oldpeak': '0.3',\n",
              "  'ST_Slope': 'Up',\n",
              "  'HeartDisease': '0'},\n",
              " '56': {'Age': '56',\n",
              "  'Sex': 'F',\n",
              "  'ChestPainType': 'ASY',\n",
              "  'RestingBP': '134',\n",
              "  'Cholesterol': '409',\n",
              "  'FastingBS': '0',\n",
              "  'RestingECG': 'LVH',\n",
              "  'MaxHR': '150',\n",
              "  'ExerciseAngina': 'Y',\n",
              "  'Oldpeak': '1.9',\n",
              "  'ST_Slope': 'Flat',\n",
              "  'HeartDisease': '1'},\n",
              " '52': {'Age': '52',\n",
              "  'Sex': 'M',\n",
              "  'ChestPainType': 'ASY',\n",
              "  'RestingBP': '140',\n",
              "  'Cholesterol': '404',\n",
              "  'FastingBS': '0',\n",
              "  'RestingECG': 'Normal',\n",
              "  'MaxHR': '124',\n",
              "  'ExerciseAngina': 'Y',\n",
              "  'Oldpeak': '2',\n",
              "  'ST_Slope': 'Flat',\n",
              "  'HeartDisease': '1'},\n",
              " '55': {'Age': '55',\n",
              "  'Sex': 'F',\n",
              "  'ChestPainType': 'ATA',\n",
              "  'RestingBP': '130',\n",
              "  'Cholesterol': '394',\n",
              "  'FastingBS': '0',\n",
              "  'RestingECG': 'LVH',\n",
              "  'MaxHR': '150',\n",
              "  'ExerciseAngina': 'N',\n",
              "  'Oldpeak': '0',\n",
              "  'ST_Slope': 'Up',\n",
              "  'HeartDisease': '0'},\n",
              " '67': {'Age': '67',\n",
              "  'Sex': 'F',\n",
              "  'ChestPainType': 'NAP',\n",
              "  'RestingBP': '115',\n",
              "  'Cholesterol': '564',\n",
              "  'FastingBS': '0',\n",
              "  'RestingECG': 'LVH',\n",
              "  'MaxHR': '160',\n",
              "  'ExerciseAngina': 'N',\n",
              "  'Oldpeak': '1.6',\n",
              "  'ST_Slope': 'Flat',\n",
              "  'HeartDisease': '0'},\n",
              " '63': {'Age': '63',\n",
              "  'Sex': 'F',\n",
              "  'ChestPainType': 'ASY',\n",
              "  'RestingBP': '150',\n",
              "  'Cholesterol': '407',\n",
              "  'FastingBS': '0',\n",
              "  'RestingECG': 'LVH',\n",
              "  'MaxHR': '154',\n",
              "  'ExerciseAngina': 'N',\n",
              "  'Oldpeak': '4',\n",
              "  'ST_Slope': 'Flat',\n",
              "  'HeartDisease': '1'},\n",
              " '65': {'Age': '65',\n",
              "  'Sex': 'F',\n",
              "  'ChestPainType': 'NAP',\n",
              "  'RestingBP': '140',\n",
              "  'Cholesterol': '417',\n",
              "  'FastingBS': '1',\n",
              "  'RestingECG': 'LVH',\n",
              "  'MaxHR': '157',\n",
              "  'ExerciseAngina': 'N',\n",
              "  'Oldpeak': '0.8',\n",
              "  'ST_Slope': 'Up',\n",
              "  'HeartDisease': '0'},\n",
              " '62': {'Age': '62',\n",
              "  'Sex': 'F',\n",
              "  'ChestPainType': 'ASY',\n",
              "  'RestingBP': '140',\n",
              "  'Cholesterol': '394',\n",
              "  'FastingBS': '0',\n",
              "  'RestingECG': 'LVH',\n",
              "  'MaxHR': '157',\n",
              "  'ExerciseAngina': 'N',\n",
              "  'Oldpeak': '1.2',\n",
              "  'ST_Slope': 'Flat',\n",
              "  'HeartDisease': '0'}}"
            ]
          },
          "metadata": {},
          "execution_count": 7
        }
      ]
    },
    {
      "cell_type": "code",
      "execution_count": 9,
      "id": "6e561d48",
      "metadata": {
        "id": "6e561d48",
        "outputId": "a484788e-3460-4e45-9ca1-62f279d4ffc8",
        "colab": {
          "base_uri": "https://localhost:8080/"
        }
      },
      "outputs": [
        {
          "output_type": "stream",
          "name": "stdout",
          "text": [
            "134.32551724137932\n",
            "146.13989637305698\n"
          ]
        }
      ],
      "source": [
        "m ={}\n",
        "f = {}\n",
        "m['sum'] = 0\n",
        "m['count']=0\n",
        "\n",
        "f['sum']=0\n",
        "f['count']=0\n",
        "\n",
        "\n",
        "for r in data :\n",
        "  if r['Sex']== 'M':\n",
        "    m['sum'] +=int ( r['MaxHR'])\n",
        "    m['count']+=1\n",
        "  else:\n",
        "    f['sum'] += int(r['MaxHR'])\n",
        "    f['count']+=1\n",
        "\n",
        "avg_m = m['sum']/m['count']\n",
        "avg_f = f['sum']/f['count']\n",
        "\n",
        "print(avg_m)\n",
        "print(avg_f)\n",
        "\n"
      ]
    },
    {
      "cell_type": "code",
      "source": [
        "mx_ch =float('-inf')\n",
        "r_mx_ch =None\n",
        "\n",
        "for r in data:\n",
        "  tmp = int (r['Cholesterol'])\n",
        "  if tmp > mx_ch:\n",
        "    mx_ch = tmp\n",
        "    r_mx_ch = r\n",
        "r_mx_ch"
      ],
      "metadata": {
        "id": "rSP54KCEJ_M_",
        "outputId": "fdcc90bc-97d2-4002-e03c-f149c5b4f936",
        "colab": {
          "base_uri": "https://localhost:8080/"
        }
      },
      "id": "rSP54KCEJ_M_",
      "execution_count": 11,
      "outputs": [
        {
          "output_type": "execute_result",
          "data": {
            "text/plain": [
              "{'Age': '54',\n",
              " 'Sex': 'M',\n",
              " 'ChestPainType': 'ASY',\n",
              " 'RestingBP': '130',\n",
              " 'Cholesterol': '603',\n",
              " 'FastingBS': '1',\n",
              " 'RestingECG': 'Normal',\n",
              " 'MaxHR': '125',\n",
              " 'ExerciseAngina': 'Y',\n",
              " 'Oldpeak': '1',\n",
              " 'ST_Slope': 'Flat',\n",
              " 'HeartDisease': '1'}"
            ]
          },
          "metadata": {},
          "execution_count": 11
        }
      ]
    },
    {
      "cell_type": "code",
      "source": [
        "age_groups = {'18-30': [], '31-40': [], '41-50': [], '51-60': [], '61+': []}\n",
        "\n",
        "# Loop through the dataset\n",
        "for data_point in data:\n",
        "    age = int(data_point['Age'])\n",
        "    if age <= 30:\n",
        "        age_groups['18-30'].append(data_point)\n",
        "    elif age <= 40:\n",
        "        age_groups['31-40'].append(data_point)\n",
        "    elif age <= 50:\n",
        "        age_groups['41-50'].append(data_point)\n",
        "    elif age <= 60:\n",
        "        age_groups['51-60'].append(data_point)\n",
        "    else:\n",
        "        age_groups['61+'].append(data_point)\n",
        "\n",
        "print(\"Patients in Age Group 18-30:\", len(age_groups['18-30']))\n",
        "print(\"Patients in Age Group 31-40:\", len(age_groups['31-40']))"
      ],
      "metadata": {
        "id": "PVibidcRKlnB",
        "outputId": "7ff1bcc1-a02f-43ee-d728-2b3dfd9ea288",
        "colab": {
          "base_uri": "https://localhost:8080/"
        }
      },
      "id": "PVibidcRKlnB",
      "execution_count": 12,
      "outputs": [
        {
          "output_type": "stream",
          "name": "stdout",
          "text": [
            "Patients in Age Group 18-30: 5\n",
            "Patients in Age Group 31-40: 88\n"
          ]
        }
      ]
    },
    {
      "cell_type": "code",
      "source": [
        "count =0\n",
        "total = 0\n",
        "\n",
        "for r in data :\n",
        "  if r['HeartDisease'] == '1':\n",
        "    count+=1\n",
        "  total+=1\n",
        "\n",
        "rate  = (count/total)*100\n",
        "rate"
      ],
      "metadata": {
        "id": "JwRifibLKwt4",
        "outputId": "f5f36bff-7393-4ecc-fd90-f4cb8405c5c3",
        "colab": {
          "base_uri": "https://localhost:8080/"
        }
      },
      "id": "JwRifibLKwt4",
      "execution_count": 14,
      "outputs": [
        {
          "output_type": "execute_result",
          "data": {
            "text/plain": [
              "55.33769063180828"
            ]
          },
          "metadata": {},
          "execution_count": 14
        }
      ]
    },
    {
      "cell_type": "code",
      "source": [],
      "metadata": {
        "id": "p9u_p_0JLEn4"
      },
      "id": "p9u_p_0JLEn4",
      "execution_count": null,
      "outputs": []
    }
  ],
  "metadata": {
    "kernelspec": {
      "display_name": "Python 3 (ipykernel)",
      "language": "python",
      "name": "python3"
    },
    "language_info": {
      "codemirror_mode": {
        "name": "ipython",
        "version": 3
      },
      "file_extension": ".py",
      "mimetype": "text/x-python",
      "name": "python",
      "nbconvert_exporter": "python",
      "pygments_lexer": "ipython3",
      "version": "3.9.7"
    },
    "colab": {
      "provenance": [],
      "include_colab_link": true
    }
  },
  "nbformat": 4,
  "nbformat_minor": 5
}