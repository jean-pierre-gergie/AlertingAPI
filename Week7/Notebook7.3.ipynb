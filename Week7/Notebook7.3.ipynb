{
  "cells": [
    {
      "cell_type": "markdown",
      "metadata": {
        "id": "S1N1n4fRcqEF"
      },
      "source": [
        "# AAI612: Deep Learning & its Applications\n",
        "\n",
        "*Notebook 7.3: Loading Pretrained Embeddings*\n",
        "\n",
        "<a href=\"https://colab.research.google.com/github/harmanani/AAI612/blob/main/Week7/Notebook7.3.ipynb\" target=\"_parent\"><img src=\"https://colab.research.google.com/assets/colab-badge.svg\" alt=\"Open In Colab\"/></a>"
      ]
    },
    {
      "cell_type": "code",
      "execution_count": 1,
      "metadata": {
        "colab": {
          "base_uri": "https://localhost:8080/",
          "height": 109
        },
        "id": "26bqDcF2cqEH",
        "outputId": "84c284c4-d52a-4306-a111-159380bfb716"
      },
      "outputs": [
        {
          "output_type": "execute_result",
          "data": {
            "text/plain": [
              "'\\nThe MIT License (MIT)\\nCopyright (c) 2021 NVIDIA\\nPermission is hereby granted, free of charge, to any person obtaining a copy of\\nthis software and associated documentation files (the \"Software\"), to deal in\\nthex Software without restriction, including without limitation the rights to\\nuse, copy, modify, merge, publish, distribute, sublicense, and/or sell copies of\\nthe Software, and to permit persons to whom the Software is furnished to do so,\\nsubject to the following conditions:\\nThe above copyright notice and this permission notice shall be included in all\\ncopies or substantial portions of the Software.\\nTHE SOFTWARE IS PROVIDED \"AS IS\", WITHOUT WARRANTY OF ANY KIND, EXPRESS OR\\nIMPLIED, INCLUDING BUT NOT LIMITED TO THE WARRANTIES OF MERCHANTABILITY, FITNESS\\nFOR A PARTICULAR PURPOSE AND NONINFRINGEMENT. IN NO EVENT SHALL THE AUTHORS OR\\nCOPYRIGHT HOLDERS BE LIABLE FOR ANY CLAIM, DAMAGES OR OTHER LIABILITY, WHETHER\\nIN AN ACTION OF CONTRACT, TORT OR OTHERWISE, ARISING FROM, OUT OF OR IN\\nCONNECTION WITH THE SOFTWARE OR THE USE OR OTHER DEALINGS IN THE SOFTWARE.\\n'"
            ],
            "application/vnd.google.colaboratory.intrinsic+json": {
              "type": "string"
            }
          },
          "metadata": {},
          "execution_count": 1
        }
      ],
      "source": [
        "\"\"\"\n",
        "The MIT License (MIT)\n",
        "Copyright (c) 2021 NVIDIA\n",
        "Permission is hereby granted, free of charge, to any person obtaining a copy of\n",
        "this software and associated documentation files (the \"Software\"), to deal in\n",
        "thex Software without restriction, including without limitation the rights to\n",
        "use, copy, modify, merge, publish, distribute, sublicense, and/or sell copies of\n",
        "the Software, and to permit persons to whom the Software is furnished to do so,\n",
        "subject to the following conditions:\n",
        "The above copyright notice and this permission notice shall be included in all\n",
        "copies or substantial portions of the Software.\n",
        "THE SOFTWARE IS PROVIDED \"AS IS\", WITHOUT WARRANTY OF ANY KIND, EXPRESS OR\n",
        "IMPLIED, INCLUDING BUT NOT LIMITED TO THE WARRANTIES OF MERCHANTABILITY, FITNESS\n",
        "FOR A PARTICULAR PURPOSE AND NONINFRINGEMENT. IN NO EVENT SHALL THE AUTHORS OR\n",
        "COPYRIGHT HOLDERS BE LIABLE FOR ANY CLAIM, DAMAGES OR OTHER LIABILITY, WHETHER\n",
        "IN AN ACTION OF CONTRACT, TORT OR OTHERWISE, ARISING FROM, OUT OF OR IN\n",
        "CONNECTION WITH THE SOFTWARE OR THE USE OR OTHER DEALINGS IN THE SOFTWARE.\n",
        "\"\"\""
      ]
    },
    {
      "cell_type": "markdown",
      "metadata": {
        "id": "CWvSxq8_cqEI"
      },
      "source": [
        "## gloVe"
      ]
    },
    {
      "cell_type": "markdown",
      "metadata": {
        "id": "mZorHl2JcqEJ"
      },
      "source": [
        "Download and unzip the precomputed embeddings from 2014 English Wikipedia `glove.6B.zip` from Go to https://nlp.stanford.edu/projects/glove. It’s an 822 MB zip file called glove.6B.zip, containing 100-dimensional embedding vectors for 400,000 words (or nonword tokens). Unzip it inside a directory `data`.  Keep the file `glove.6B.100d.txt` an delete the rest."
      ]
    },
    {
      "cell_type": "code",
      "source": [
        "!mkdir -p data\n",
        "!wget http://nlp.stanford.edu/data/glove.6B.zip -P data/"
      ],
      "metadata": {
        "colab": {
          "base_uri": "https://localhost:8080/"
        },
        "id": "-etE6YG7dCZO",
        "outputId": "9956ca25-f779-4d51-a405-6fdecd9c8afb"
      },
      "execution_count": 1,
      "outputs": [
        {
          "output_type": "stream",
          "name": "stdout",
          "text": [
            "--2025-05-03 09:22:36--  http://nlp.stanford.edu/data/glove.6B.zip\n",
            "Resolving nlp.stanford.edu (nlp.stanford.edu)... 171.64.67.140\n",
            "Connecting to nlp.stanford.edu (nlp.stanford.edu)|171.64.67.140|:80... connected.\n",
            "HTTP request sent, awaiting response... 302 Found\n",
            "Location: https://nlp.stanford.edu/data/glove.6B.zip [following]\n",
            "--2025-05-03 09:22:36--  https://nlp.stanford.edu/data/glove.6B.zip\n",
            "Connecting to nlp.stanford.edu (nlp.stanford.edu)|171.64.67.140|:443... connected.\n",
            "HTTP request sent, awaiting response... 301 Moved Permanently\n",
            "Location: https://downloads.cs.stanford.edu/nlp/data/glove.6B.zip [following]\n",
            "--2025-05-03 09:22:36--  https://downloads.cs.stanford.edu/nlp/data/glove.6B.zip\n",
            "Resolving downloads.cs.stanford.edu (downloads.cs.stanford.edu)... 171.64.64.22\n",
            "Connecting to downloads.cs.stanford.edu (downloads.cs.stanford.edu)|171.64.64.22|:443... connected.\n",
            "HTTP request sent, awaiting response... 200 OK\n",
            "Length: 862182613 (822M) [application/zip]\n",
            "Saving to: ‘data/glove.6B.zip’\n",
            "\n",
            "glove.6B.zip        100%[===================>] 822.24M  5.01MB/s    in 2m 39s  \n",
            "\n",
            "2025-05-03 09:25:15 (5.19 MB/s) - ‘data/glove.6B.zip’ saved [862182613/862182613]\n",
            "\n"
          ]
        }
      ]
    },
    {
      "cell_type": "code",
      "source": [
        "!unzip data/glove.6B.zip -d data/\n",
        "!find data/ -type f -name 'glove.6B.*.txt' ! -name 'glove.6B.100d.txt' -delete\n",
        "!rm data/glove.6B.zip"
      ],
      "metadata": {
        "colab": {
          "base_uri": "https://localhost:8080/"
        },
        "id": "kifAMN_bdJtk",
        "outputId": "fce6292a-6d12-4eae-e1e4-467d05f3ebc8"
      },
      "execution_count": 2,
      "outputs": [
        {
          "output_type": "stream",
          "name": "stdout",
          "text": [
            "Archive:  data/glove.6B.zip\n",
            "  inflating: data/glove.6B.50d.txt   \n",
            "  inflating: data/glove.6B.100d.txt  \n",
            "  inflating: data/glove.6B.200d.txt  \n",
            "  inflating: data/glove.6B.300d.txt  \n"
          ]
        }
      ]
    },
    {
      "cell_type": "markdown",
      "metadata": {
        "id": "A58feVm0cqEJ"
      },
      "source": [
        "### Preproessing the Embeddings"
      ]
    },
    {
      "cell_type": "code",
      "source": [],
      "metadata": {
        "id": "Djm3CzsBdJSM"
      },
      "execution_count": null,
      "outputs": []
    },
    {
      "cell_type": "markdown",
      "metadata": {
        "tags": [],
        "id": "4hOaYi3kcqEJ"
      },
      "source": [
        "Read the embeddings.  Start by opening the file and read it line by line. Split each line into its elements. Extract the first element, which represents the word itself, and then create a vector from the remaining elements and insert the word and the corresponding vector into a dictionary, which serves as the return value of the function."
      ]
    },
    {
      "cell_type": "code",
      "execution_count": 3,
      "metadata": {
        "tags": [],
        "id": "wIKaKGy_cqEJ"
      },
      "outputs": [],
      "source": [
        "import numpy as np\n",
        "import scipy.spatial\n",
        "\n",
        "# Read embeddings from file.\n",
        "def read_embeddings():\n",
        "    FILE_NAME = 'data/glove.6B.100d.txt'\n",
        "    embeddings = {}\n",
        "    file = open(FILE_NAME, 'r', encoding='utf-8')\n",
        "    for line in file:\n",
        "        values = line.split()\n",
        "        word = values[0]\n",
        "        vector = np.asarray(values[1:], dtype='float32')\n",
        "        embeddings[word] = vector\n",
        "    file.close()\n",
        "    print('Read %s embeddings.' % len(embeddings))\n",
        "    return embeddings"
      ]
    },
    {
      "cell_type": "markdown",
      "metadata": {
        "id": "LvPOfvgCcqEK"
      },
      "source": [
        "Compute the cosine distance between a specific embedding and all other embeddings. It then prints the n closest ones.  Euclidean distance would also have worked fine, but the results would sometimes be different because the GloVe vectors are not normalized."
      ]
    },
    {
      "cell_type": "code",
      "execution_count": 4,
      "metadata": {
        "id": "kHjTwIFUcqEK"
      },
      "outputs": [],
      "source": [
        "\n",
        "def print_n_closest(embeddings, vec0, n):\n",
        "    word_distances = {}\n",
        "    for (word, vec1) in embeddings.items():\n",
        "        distance = scipy.spatial.distance.cosine(vec1, vec0)\n",
        "        word_distances[distance] = word\n",
        "    # Print words sorted by distance.\n",
        "    for distance in sorted(word_distances.keys())[:n]:\n",
        "        word = word_distances[distance]\n",
        "        print(word + ': %6.3f' % distance)"
      ]
    },
    {
      "cell_type": "markdown",
      "metadata": {
        "tags": [],
        "id": "5LA7hXPncqEK"
      },
      "source": [
        "First read the embeddings by invoking `read_embeddings()`"
      ]
    },
    {
      "cell_type": "code",
      "execution_count": 5,
      "metadata": {
        "colab": {
          "base_uri": "https://localhost:8080/"
        },
        "id": "h7qR5GpZcqEK",
        "outputId": "c3085d7d-877d-4052-ac4b-f580c33286c7"
      },
      "outputs": [
        {
          "output_type": "stream",
          "name": "stdout",
          "text": [
            "Read 400000 embeddings.\n"
          ]
        }
      ],
      "source": [
        "embeddings = read_embeddings()"
      ]
    },
    {
      "cell_type": "markdown",
      "metadata": {
        "id": "mkx6DOuycqEL"
      },
      "source": [
        "Retrieve the embeddings for **hello** and print closest emebdding using `print_n_closest()`"
      ]
    },
    {
      "cell_type": "code",
      "execution_count": 6,
      "metadata": {
        "colab": {
          "base_uri": "https://localhost:8080/"
        },
        "id": "NdKOgNbDcqEL",
        "outputId": "d991f877-5aa6-47d2-94b8-d8924316ea75"
      },
      "outputs": [
        {
          "output_type": "stream",
          "name": "stdout",
          "text": [
            "\n",
            "Words closest to hello\n",
            "hello:  0.000\n",
            "goodbye:  0.209\n",
            "hey:  0.283\n"
          ]
        }
      ],
      "source": [
        "lookup_word = 'hello'\n",
        "print('\\nWords closest to ' + lookup_word)\n",
        "print_n_closest(embeddings, embeddings[lookup_word], 3)"
      ]
    },
    {
      "cell_type": "markdown",
      "metadata": {
        "tags": [],
        "id": "BiUy6lCzcqEL"
      },
      "source": [
        "Retrieve the embeddings for **dog** and print closest emebdding using `print_n_closest()`"
      ]
    },
    {
      "cell_type": "code",
      "execution_count": 7,
      "metadata": {
        "colab": {
          "base_uri": "https://localhost:8080/"
        },
        "id": "pHE3EGQ6cqEL",
        "outputId": "4c489b98-d869-4520-ecc3-6af685924e0f"
      },
      "outputs": [
        {
          "output_type": "stream",
          "name": "stdout",
          "text": [
            "\n",
            "Words closest to dog\n",
            "dog:  0.000\n",
            "cat:  0.120\n",
            "dogs:  0.166\n"
          ]
        }
      ],
      "source": [
        "lookup_word = 'dog'\n",
        "print('\\nWords closest to ' + lookup_word)\n",
        "print_n_closest(embeddings, embeddings[lookup_word], 3)"
      ]
    },
    {
      "cell_type": "markdown",
      "metadata": {
        "id": "gqhL5sKrcqEL"
      },
      "source": [
        "### What is the capital of Jordan?"
      ]
    },
    {
      "cell_type": "code",
      "execution_count": 8,
      "metadata": {
        "colab": {
          "base_uri": "https://localhost:8080/"
        },
        "id": "7wh02fJIcqEL",
        "outputId": "a4919ef8-5bd9-4281-e04f-8a221a4563c0"
      },
      "outputs": [
        {
          "output_type": "stream",
          "name": "stdout",
          "text": [
            "amman:  0.250\n",
            "jordan:  0.268\n",
            "cairo:  0.321\n"
          ]
        }
      ],
      "source": [
        "vec = embeddings['beirut'] - embeddings['lebanon'] + embeddings['jordan']\n",
        "print_n_closest(embeddings, vec, 3)"
      ]
    },
    {
      "cell_type": "markdown",
      "metadata": {
        "id": "PsJ034-HcqEL"
      },
      "source": [
        "### King - man + Woman = ??"
      ]
    },
    {
      "cell_type": "markdown",
      "metadata": {
        "id": "ZMEHjPlncqEL"
      },
      "source": [
        "Retrieve the embeddings for **king** and print closest emebdding using `print_n_closest()`"
      ]
    },
    {
      "cell_type": "code",
      "execution_count": 9,
      "metadata": {
        "colab": {
          "base_uri": "https://localhost:8080/"
        },
        "id": "z_DtNXCFcqEM",
        "outputId": "c23e93ac-b6a4-41c9-de57-e48b4d4a0448"
      },
      "outputs": [
        {
          "output_type": "stream",
          "name": "stdout",
          "text": [
            "\n",
            "Words closest to king\n",
            "king:  0.000\n",
            "prince:  0.232\n",
            "queen:  0.249\n"
          ]
        }
      ],
      "source": [
        "lookup_word = 'king'\n",
        "print('\\nWords closest to ' + lookup_word)\n",
        "print_n_closest(embeddings, embeddings[lookup_word], 3)"
      ]
    },
    {
      "cell_type": "markdown",
      "metadata": {
        "id": "hWt-c5vccqEM"
      },
      "source": [
        "Print the words closest to the vector resulting from computing `(king - man + woman).`"
      ]
    },
    {
      "cell_type": "code",
      "execution_count": 10,
      "metadata": {
        "colab": {
          "base_uri": "https://localhost:8080/"
        },
        "id": "Nb9EnmfTcqEM",
        "outputId": "d3a51c74-bd04-4cc2-bd16-8b71c6984316"
      },
      "outputs": [
        {
          "output_type": "stream",
          "name": "stdout",
          "text": [
            "\n",
            "Words closest to (king - man + woman)\n",
            "king:  0.145\n",
            "queen:  0.217\n",
            "monarch:  0.307\n"
          ]
        }
      ],
      "source": [
        "lookup_word = '(king - man + woman)'\n",
        "print('\\nWords closest to ' + lookup_word)\n",
        "vec = embeddings['king'] - embeddings['man'] + embeddings['woman']\n",
        "print_n_closest(embeddings, vec, 3)"
      ]
    },
    {
      "cell_type": "markdown",
      "metadata": {
        "id": "SqiaB6RbcqEM"
      },
      "source": [
        "### Madrid − Spain + Sweden = ?"
      ]
    },
    {
      "cell_type": "markdown",
      "metadata": {
        "tags": [],
        "id": "ztRK1H6ccqEM"
      },
      "source": [
        "A more impressive example next where we first print the words closest to **sweden** and **madrid** and then print the words closest to the result from the computation `(madrid − spain + sweden).`  We would assume the answer to be `Stockholm`"
      ]
    },
    {
      "cell_type": "code",
      "execution_count": 11,
      "metadata": {
        "colab": {
          "base_uri": "https://localhost:8080/"
        },
        "id": "PPoh-9HCcqEM",
        "outputId": "fb8af32e-47ff-439c-eca9-fd31aef2361b"
      },
      "outputs": [
        {
          "output_type": "stream",
          "name": "stdout",
          "text": [
            "\n",
            "Words closest to sweden\n",
            "sweden:  0.000\n",
            "denmark:  0.138\n",
            "norway:  0.193\n"
          ]
        }
      ],
      "source": [
        "lookup_word = 'sweden'\n",
        "print('\\nWords closest to ' + lookup_word)\n",
        "print_n_closest(embeddings, embeddings[lookup_word], 3)"
      ]
    },
    {
      "cell_type": "code",
      "execution_count": 12,
      "metadata": {
        "colab": {
          "base_uri": "https://localhost:8080/"
        },
        "id": "lJaoFVtHcqEM",
        "outputId": "26f68a4f-bfa8-4866-afcc-a528c2a035b9"
      },
      "outputs": [
        {
          "output_type": "stream",
          "name": "stdout",
          "text": [
            "\n",
            "Words closest to madrid\n",
            "madrid:  0.000\n",
            "barcelona:  0.157\n",
            "valencia:  0.197\n"
          ]
        }
      ],
      "source": [
        "lookup_word = 'madrid'\n",
        "print('\\nWords closest to ' + lookup_word)\n",
        "print_n_closest(embeddings, embeddings[lookup_word], 3)"
      ]
    },
    {
      "cell_type": "markdown",
      "metadata": {
        "id": "J9bQ0fQ4cqEM"
      },
      "source": [
        "Now, print the words closest to the result from the computation `(madrid − spain + sweden).`"
      ]
    },
    {
      "cell_type": "code",
      "execution_count": 13,
      "metadata": {
        "colab": {
          "base_uri": "https://localhost:8080/"
        },
        "id": "xe0iwCN_cqEM",
        "outputId": "f1cea41a-6cc6-4ee9-893b-8984716c5b87"
      },
      "outputs": [
        {
          "output_type": "stream",
          "name": "stdout",
          "text": [
            "\n",
            "Words closest to (madrid - spain + sweden)\n",
            "stockholm:  0.271\n",
            "sweden:  0.300\n",
            "copenhagen:  0.305\n"
          ]
        }
      ],
      "source": [
        "lookup_word = '(madrid - spain + sweden)'\n",
        "print('\\nWords closest to ' + lookup_word)\n",
        "vec = embeddings['madrid'] - embeddings['spain'] + embeddings['sweden']\n",
        "print_n_closest(embeddings, vec, 3)"
      ]
    },
    {
      "cell_type": "code",
      "source": [
        "lookup_word = '(france - euro + japan)'\n",
        "print('\\nWords closest to ' + lookup_word)\n",
        "vec = embeddings['france'] - embeddings['euro'] + embeddings['japan']\n",
        "print_n_closest(embeddings, vec, 3)"
      ],
      "metadata": {
        "colab": {
          "base_uri": "https://localhost:8080/"
        },
        "id": "UY_zPzIjeM6j",
        "outputId": "c34f269e-cbfb-44d6-f9f8-0237912c660a"
      },
      "execution_count": 16,
      "outputs": [
        {
          "output_type": "stream",
          "name": "stdout",
          "text": [
            "\n",
            "Words closest to (france - euro + japan)\n",
            "japan:  0.309\n",
            "france:  0.354\n",
            "korea:  0.364\n"
          ]
        }
      ]
    },
    {
      "cell_type": "code",
      "source": [
        "lookup_word = '(apple - iphone + microsoft)'\n",
        "print('\\nWords closest to ' + lookup_word)\n",
        "vec = embeddings['apple'] - embeddings['iphone'] + embeddings['microsoft']\n",
        "print_n_closest(embeddings, vec, 3)"
      ],
      "metadata": {
        "id": "q9ORmbH1e3CN",
        "outputId": "83bc9ebb-67cd-4d6a-bcba-c790d9ddddaa",
        "colab": {
          "base_uri": "https://localhost:8080/"
        }
      },
      "execution_count": 17,
      "outputs": [
        {
          "output_type": "stream",
          "name": "stdout",
          "text": [
            "\n",
            "Words closest to (apple - iphone + microsoft)\n",
            "microsoft:  0.176\n",
            "apple:  0.228\n",
            "intel:  0.295\n"
          ]
        }
      ]
    },
    {
      "cell_type": "code",
      "source": [],
      "metadata": {
        "id": "pReniia9e5dH"
      },
      "execution_count": null,
      "outputs": []
    }
  ],
  "metadata": {
    "kernelspec": {
      "display_name": "Python 3",
      "name": "python3"
    },
    "language_info": {
      "codemirror_mode": {
        "name": "ipython",
        "version": 3
      },
      "file_extension": ".py",
      "mimetype": "text/x-python",
      "name": "python",
      "nbconvert_exporter": "python",
      "pygments_lexer": "ipython3",
      "version": "3.9.6"
    },
    "colab": {
      "provenance": [],
      "gpuType": "T4"
    },
    "accelerator": "GPU"
  },
  "nbformat": 4,
  "nbformat_minor": 0
}